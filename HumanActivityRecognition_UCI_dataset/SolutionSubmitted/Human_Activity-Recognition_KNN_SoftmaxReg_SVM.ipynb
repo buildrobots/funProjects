{
 "cells": [
  {
   "cell_type": "markdown",
   "metadata": {},
   "source": [
    "# Human Activity Recognition using Smartphone Sensors\n",
    "## Classification of Activities using KNN, Softmax and SVM\n",
    " \n",
    "## Introduction\n",
    "\n",
    "It is estimated that 63% of the population globally uses smart phones. As such the users of smart phones have a device already in possession that is equipped not only with the computational capability but also with different types of sensors, such as accelerometer, gyroscope and GPS. There is also an increasing trend of users tracking various fitness activities. University of California, Irvine (UCI) completed a project in which smartphone was used to capture data using both accelerometer and the gyroscope for different motion activities performed by human participants. The categories for these activities are -\n",
    "\n",
    "* WALKING\n",
    "* WALKING_UPSTAIRS\n",
    "* WALKING_DOWNSTAIRS\n",
    "* SITTING\n",
    "* STANDING\n",
    "* LAYING\n",
    "\n",
    "In this project we shall apply machine learning methods on the dataset from UCI's Human Activity Recognition<sup>1</sup> project to classify the data to the appropriate activities. We shall use three algorithms for this - K-Nearest Neighbors (KNN), Softmax Regrssion and Support Vector Machine (SVM) and evaluate the accuracy of classification for each of these algorithms.\n",
    "\n"
   ]
  },
  {
   "cell_type": "markdown",
   "metadata": {},
   "source": [
    "### Library used\n",
    "In this project we shall use SKLearn<sup>2</sup> library for building the required models. The algorithms that will be implemented are KNN, Softmax regression and SVM. Additionally, we shall use SKLearn's functions for determining the performance metrics of the different models.\n",
    "\n",
    "#### Import required libraries"
   ]
  },
  {
   "cell_type": "code",
   "execution_count": 1,
   "metadata": {
    "collapsed": true
   },
   "outputs": [],
   "source": [
    "from sklearn import linear_model, svm, datasets, metrics\n",
    "from sklearn.linear_model import LogisticRegression\n",
    "from sklearn.neighbors import KNeighborsClassifier"
   ]
  },
  {
   "cell_type": "code",
   "execution_count": 2,
   "metadata": {
    "collapsed": true
   },
   "outputs": [],
   "source": [
    "from sklearn.model_selection import cross_validate, train_test_split\n",
    "from sklearn.decomposition import KernelPCA\n",
    "from sklearn.decomposition import PCA"
   ]
  },
  {
   "cell_type": "code",
   "execution_count": 3,
   "metadata": {
    "collapsed": true
   },
   "outputs": [],
   "source": [
    "from sklearn import datasets, metrics\n",
    "from sklearn.model_selection import cross_val_score\n",
    "from sklearn.metrics import confusion_matrix\n",
    "from sklearn.metrics import accuracy_score"
   ]
  },
  {
   "cell_type": "code",
   "execution_count": 4,
   "metadata": {
    "collapsed": true
   },
   "outputs": [],
   "source": [
    "import numpy as np\n",
    "import matplotlib.pyplot as plt\n",
    "import time"
   ]
  },
  {
   "cell_type": "markdown",
   "metadata": {},
   "source": [
    "#### Read activity labels"
   ]
  },
  {
   "cell_type": "code",
   "execution_count": 5,
   "metadata": {},
   "outputs": [],
   "source": [
    "with open('activity_labels.txt') as f:\n",
    "  activity_label = dict(x.rstrip().split(None, 1) for x in f)"
   ]
  },
  {
   "cell_type": "code",
   "execution_count": 6,
   "metadata": {
    "collapsed": true
   },
   "outputs": [],
   "source": [
    "# Initialize lists\n",
    "X = []\n",
    "y = []\n",
    "X_validate = []\n",
    "y_validate = []\n",
    "X_test = []\n",
    "y_test = []"
   ]
  },
  {
   "cell_type": "markdown",
   "metadata": {},
   "source": [
    "#### Preprocess datasets "
   ]
  },
  {
   "cell_type": "code",
   "execution_count": 7,
   "metadata": {},
   "outputs": [
    {
     "name": "stdout",
     "output_type": "stream",
     "text": [
      "Training dataset loaded.\n"
     ]
    }
   ],
   "source": [
    "# Read training dataset to get features\n",
    "\n",
    "try:\n",
    "    # Read X_train dataset\n",
    "    with open(\"X_train.txt\", newline='') as f:\n",
    "        res = list(f)\n",
    "        for line in res:\n",
    "            line.strip(\"\\n\")\n",
    "            data = line.split(\" \")\n",
    "            while data.__contains__(\"\"):\n",
    "                data.remove(\"\")\n",
    "            for i in range(len(data)):\n",
    "                data[i] = float(data[i])\n",
    "            X.append(data)\n",
    "         \n",
    "    # Read y_train dataset\n",
    "    with open(\"y_train.txt\", newline='') as f:\n",
    "        res = list(f)\n",
    "        for line in res:\n",
    "            y.append(int(line.strip(\"\\n\")[0]))\n",
    "            \n",
    "except:\n",
    "    print(\"Error loading training dataset!\")\n",
    "    exit()\n",
    "\n",
    "print(\"Training dataset loaded.\")"
   ]
  },
  {
   "cell_type": "code",
   "execution_count": 8,
   "metadata": {},
   "outputs": [
    {
     "name": "stdout",
     "output_type": "stream",
     "text": [
      "Testing dataset loaded.\n"
     ]
    }
   ],
   "source": [
    "# Read testing dataset to get features\n",
    "\n",
    "try:\n",
    "    # Read X_test dataset\n",
    "    with open(\"X_test.txt\", newline='') as f:\n",
    "        res = list(f)\n",
    "        for line in res:\n",
    "            line.strip(\"\\n\")\n",
    "            data = line.split(\" \")\n",
    "            while data.__contains__(\"\"):\n",
    "                data.remove(\"\")\n",
    "            for i in range(len(data)):\n",
    "                data[i] = float(data[i])\n",
    "            X_test.append(data)\n",
    "        \n",
    "    # Read y_test dataset\n",
    "    with open(\"y_test.txt\", newline='') as f:\n",
    "        res = list(f)\n",
    "        for line in res:\n",
    "            y_test.append(int(line.strip(\"\\n\")[0]))\n",
    "        f.close()\n",
    "except:\n",
    "    print(\"Error loading testing dataset!\")\n",
    "    exit()\n",
    "    \n",
    "print(\"Testing dataset loaded.\")"
   ]
  },
  {
   "cell_type": "code",
   "execution_count": 9,
   "metadata": {
    "collapsed": true
   },
   "outputs": [],
   "source": [
    "X = np.array(X)"
   ]
  },
  {
   "cell_type": "code",
   "execution_count": 10,
   "metadata": {
    "collapsed": true
   },
   "outputs": [],
   "source": [
    "y = np.array(y)"
   ]
  },
  {
   "cell_type": "markdown",
   "metadata": {},
   "source": [
    "#### Split training dataset into training and validation sets\n",
    "Data is required to be split as:\n",
    "    *__training__: 5,147 observations,\n",
    "    *__validation__: 2,206 observations\n",
    "    \n",
    "This requires splitting training dataset into 70% for training and 30% for validation."
   ]
  },
  {
   "cell_type": "code",
   "execution_count": 11,
   "metadata": {},
   "outputs": [
    {
     "name": "stdout",
     "output_type": "stream",
     "text": [
      "Split training dataset into 70% training set & 30% validation set.\n"
     ]
    }
   ],
   "source": [
    "print(\"Split training dataset into 70% training set & 30% validation set.\")\n",
    "X_train, X_validate, y_train, y_validate = train_test_split(X, y, test_size=0.30, random_state=30)"
   ]
  },
  {
   "cell_type": "markdown",
   "metadata": {},
   "source": [
    "### Implement K-Nearest Neighbor"
   ]
  },
  {
   "cell_type": "code",
   "execution_count": 12,
   "metadata": {
    "collapsed": true
   },
   "outputs": [],
   "source": [
    "def runKNNeval():\n",
    "    start_time = time.time()\n",
    "    totalCases = 0\n",
    "    corrPred = 0\n",
    "\n",
    "    actualist = []\n",
    "    predlist = []\n",
    "    nn_result = []\n",
    "    \n",
    "    #nn_list = range(1, 2, 1)\n",
    "    \n",
    "    max_score_knn = float(\"-inf\")\n",
    "    best_param_knn = None\n",
    "    \n",
    "    for nn in range(1, 2, 1):\n",
    "        knn_clf = KNeighborsClassifier(n_neighbors=nn)\n",
    "        scores = cross_val_score(knn_clf, X_train, y_train, scoring=\"accuracy\", cv=6)\n",
    "        nn_result.append(scores.mean())\n",
    "        if scores.mean() > max_score_knn:\n",
    "            max_score_knn = scores.mean()\n",
    "            best_param_knn = {\"n_neighbors\": nn}\n",
    "        \n",
    "    print('Cross validation result for KNN method: ',nn_result)\n",
    "    \n",
    "    knn_clf = KNeighborsClassifier(best_param_knn.get(\"n_neighbors\")).fit(X, y)\n",
    "    \n",
    "    for i in range(len(X_test)):\n",
    "        totalCases += 1\n",
    "        classinrow = X_test[i]\n",
    "        classinrow = np.array(X_test[i]).reshape(1,-1)\n",
    "        predicted = knn_clf.predict(classinrow)\n",
    "        actual = y_test[i]\n",
    "        actualist.append(actual)\n",
    "        predlist.append(predicted[0])\n",
    "        if predicted == actual:\n",
    "            corrPred += 1\n",
    "    \n",
    "    accuracy_knn = float(\"{0:.2f}\".format(max_score_knn * 100.0))\n",
    "\n",
    "    print(\"Total cases for KNN: \", totalCases)\n",
    "    print(\"Correct Prediction for KNN: \", corrPred)\n",
    "    print(\"Correct prediction rate for KNN: \", float(corrPred) / totalCases)\n",
    "    \n",
    "    cmatrix_knn = metrics.confusion_matrix(actualist, predlist)\n",
    "    \n",
    "    print('\\nClassification Report for KNN method:\\n\\n',metrics.classification_report(actualist, predlist, target_names = list(activity_label.values())))\n",
    "\n",
    "    print('KNN Confusion Matrix:\\n')\n",
    "    print(cmatrix_knn)\n",
    "    \n",
    "    execTime =  time.time() - start_time\n",
    "\n",
    "    return cmatrix_knn, accuracy_knn, execTime"
   ]
  },
  {
   "cell_type": "markdown",
   "metadata": {},
   "source": [
    "### Implement Softmax Regression"
   ]
  },
  {
   "cell_type": "code",
   "execution_count": 13,
   "metadata": {
    "collapsed": true
   },
   "outputs": [],
   "source": [
    "def runSoftMaxeval():\n",
    "    start_time = time.time()\n",
    "\n",
    "    totalCases = 0\n",
    "    corrPred = 0\n",
    "\n",
    "    actualist = []\n",
    "    predlist = []\n",
    "    \n",
    "    cv_result_softmax = []\n",
    "    \n",
    "    log_classifier = LogisticRegression(C=1.0, solver = 'newton-cg', multi_class='multinomial')\n",
    "    \n",
    "    scores = cross_val_score(log_classifier, X_train, y_train, scoring='accuracy', cv=6)\n",
    "    cv_result_softmax.append(scores.mean())\n",
    "    \n",
    "    print(\"Cross-validation result for Softmax Regression method:\", cv_result_softmax)\n",
    "\n",
    "    \n",
    "    y_pred = log_classifier.fit(X_train, y_train)\n",
    "    \n",
    "    y_predict_logr = log_classifier.predict(X_validate)\n",
    "    \n",
    "    cmatrix_logr = metrics.confusion_matrix(y_validate, y_predict_logr)\n",
    "    \n",
    "    for i in range(len(X_test)):\n",
    "        totalCases += 1\n",
    "        classinrow = X_test[i]\n",
    "        classinrow = np.array(X_test[i]).reshape(1,-1)\n",
    "        predicted = log_classifier.predict(classinrow)\n",
    "        actual = y_test[i]\n",
    "        actualist.append(actual)\n",
    "        predlist.append(predicted[0])\n",
    "        if predicted == actual:\n",
    "            corrPred += 1    \n",
    "\n",
    "\n",
    "    print(\"Total cases for Softmax Regression: \", totalCases)\n",
    "    print(\"Correct Prediction for Softmax Regression: \", corrPred)\n",
    "    print(\"Correct prediction rate for Softmax Regression: \", float(corrPred) / totalCases)            \n",
    "    \n",
    "    print('\\nClassification Report for Softmax Regression method:\\n\\n',metrics.classification_report(y_validate, y_predict_logr, target_names = list(activity_label.values())))\n",
    "    \n",
    "    print('Softmax Regression Confusion Matrix:\\n')    \n",
    "    print(cmatrix_logr)\n",
    "    \n",
    "    # Compute overall accuracy\n",
    "    sum = 0\n",
    "    for i in range(6):\n",
    "        sum += cmatrix_logr[i][i]\n",
    "        \n",
    "    accuracy_logr = float(\"{0:.2f}\".format(sum * 100.0 / y_validate.size)) \n",
    "    \n",
    "    execTime =  time.time() - start_time\n",
    "    \n",
    "    return cmatrix_logr, accuracy_logr, execTime"
   ]
  },
  {
   "cell_type": "markdown",
   "metadata": {},
   "source": [
    "### Implement Support Vector Machine (SVM)"
   ]
  },
  {
   "cell_type": "code",
   "execution_count": 14,
   "metadata": {
    "collapsed": true
   },
   "outputs": [],
   "source": [
    "def runSVMeval():\n",
    "    start_time = time.time()\n",
    "\n",
    "    totalCases = 0\n",
    "    corrPred = 0\n",
    "\n",
    "    actualist = []\n",
    "    predlist = []\n",
    "    \n",
    "    C_linear = [1]\n",
    "\n",
    "    cv_result_linear = []\n",
    "\n",
    "    for C in C_linear:\n",
    "        svc_linear = svm.SVC(kernel='linear', C=C)\n",
    "        scores = cross_val_score(svc_linear, X_train, y_train, scoring='accuracy', cv=6)\n",
    "        cv_result_linear.append(scores.mean())\n",
    "\n",
    "    print(\"Cross-validation result for SVM method:\", cv_result_linear)\n",
    "    \n",
    "    best_param = {\"C\": 1}\n",
    "    \n",
    "    accuracy_svm = svm.SVC(kernel='linear', C=best_param.get(\"C\")).fit(X_validate, y_validate).score(X_validate, y_validate)\n",
    "    linear_test = svm.SVC(kernel='linear', C=best_param.get(\"C\")).fit(X, y)\n",
    "        \n",
    "    for i in range(len(X_test)):\n",
    "        totalCases += 1\n",
    "        classinrow = X_test[i]\n",
    "        classinrow = np.array(X_test[i]).reshape(1,-1)\n",
    "        predicted = linear_test.predict(classinrow)\n",
    "        actual = y_test[i]\n",
    "        actualist.append(actual)\n",
    "        predlist.append(predicted[0])\n",
    "        if predicted == actual:\n",
    "            corrPred += 1\n",
    "            \n",
    "    print(\"Total cases for SVM: \", totalCases)\n",
    "    print(\"Correct Prediction for SVM: \", corrPred)\n",
    "    print(\"Correct prediction rate for SVM: \", float(corrPred) / totalCases)\n",
    "    \n",
    "    cmatrix_svm = metrics.confusion_matrix(actualist, predlist)\n",
    "    \n",
    "    print('\\nClassification Report for SVM method:\\n\\n',metrics.classification_report(actualist, predlist, target_names = list(activity_label.values())))\n",
    "    \n",
    "    print('SVM Confusion Matrix:\\n')  \n",
    "    print(cmatrix_svm)\n",
    "    \n",
    "    execTime =  time.time() - start_time\n",
    "    \n",
    "    return cmatrix_svm, float(\"{0:.2f}\".format(accuracy_svm * 100.0)), execTime"
   ]
  },
  {
   "cell_type": "markdown",
   "metadata": {},
   "source": [
    "### Plotting the results"
   ]
  },
  {
   "cell_type": "code",
   "execution_count": 15,
   "metadata": {
    "collapsed": true
   },
   "outputs": [],
   "source": [
    "def plot(cm, title=\"Normalized Confusion Matrix\", cmap=plt.cm.rainbow):\n",
    "    \n",
    "    width = 10\n",
    "    height = 10\n",
    "    plt.figure(figsize=(width, height))\n",
    "    plt.imshow(cm, interpolation='nearest', cmap=cmap)\n",
    "    plt.title(title)\n",
    "    plt.colorbar()\n",
    "    tick_marks = np.arange(len(activity_label))\n",
    "    plt.xticks(tick_marks, activity_label.values(), rotation=90)\n",
    "    plt.yticks(tick_marks, activity_label.values())\n",
    "    plt.tight_layout()\n",
    "    plt.ylabel(\"True label\", fontsize=12)\n",
    "    plt.xlabel(\"Predicted label\", fontsize=12)\n",
    "    plt.show()"
   ]
  },
  {
   "cell_type": "markdown",
   "metadata": {},
   "source": [
    "#### Run KNN based classification"
   ]
  },
  {
   "cell_type": "code",
   "execution_count": 16,
   "metadata": {},
   "outputs": [
    {
     "name": "stdout",
     "output_type": "stream",
     "text": [
      "\n",
      "**** RESULTS FOR KNN METHOD ****\n",
      "\n",
      "Cross validation result for KNN method:  [0.96151608944465039]\n",
      "Total cases for KNN:  2947\n",
      "Correct Prediction for KNN:  2589\n",
      "Correct prediction rate for KNN:  0.8785205293518833\n",
      "\n",
      "Classification Report for KNN method:\n",
      "\n",
      "                     precision    recall  f1-score   support\n",
      "\n",
      "          STANDING       0.85      0.95      0.90       496\n",
      "           WALKING       0.88      0.90      0.89       471\n",
      "  WALKING_UPSTAIRS       0.91      0.76      0.83       420\n",
      "WALKING_DOWNSTAIRS       0.82      0.79      0.81       491\n",
      "           SITTING       0.82      0.85      0.83       532\n",
      "            LAYING       1.00      0.99      1.00       537\n",
      "\n",
      "       avg / total       0.88      0.88      0.88      2947\n",
      "\n",
      "KNN Confusion Matrix:\n",
      "\n",
      "[[473   8  15   0   0   0]\n",
      " [ 31 422  18   0   0   0]\n",
      " [ 53  46 321   0   0   0]\n",
      " [  0   2   0 389  99   1]\n",
      " [  0   0   0  81 451   0]\n",
      " [  0   0   0   3   1 533]]\n",
      "\n",
      "Normalized Confusion Matrix (values) for KNN method:\n",
      "\n",
      " [[ 0.95362903  0.01612903  0.03024194  0.          0.          0.        ]\n",
      " [ 0.06581741  0.89596603  0.03821656  0.          0.          0.        ]\n",
      " [ 0.12619048  0.10952381  0.76428571  0.          0.          0.        ]\n",
      " [ 0.          0.00407332  0.          0.79226069  0.20162933  0.00203666]\n",
      " [ 0.          0.          0.          0.15225564  0.84774436  0.        ]\n",
      " [ 0.          0.          0.          0.00558659  0.0018622   0.99255121]]\n"
     ]
    },
    {
     "data": {
      "image/png": "[encoded data removed]",
      "text/plain": [
       "<matplotlib.figure.Figure at 0x98b12b0>"
      ]
     },
     "metadata": {},
     "output_type": "display_data"
    },
    {
     "name": "stdout",
     "output_type": "stream",
     "text": [
      "\n",
      "Mean Accuracy for KNN: 96.15%\n",
      "\n",
      "Execution time (in seconds) =  31.826\n"
     ]
    }
   ],
   "source": [
    "print('\\n**** RESULTS FOR KNN METHOD ****\\n')\n",
    "cmatrix_knn, accuracy_knn, execTimeKNN = runKNNeval()\n",
    "cm_normalized_knn = cmatrix_knn.astype('float') / cmatrix_knn.sum(axis=1)[:,np.newaxis]\n",
    "\n",
    "print('\\nNormalized Confusion Matrix (values) for KNN method:\\n\\n', cm_normalized_knn)\n",
    "plot(cm_normalized_knn)\n",
    "\n",
    "print('\\nMean Accuracy for KNN: ', end='')\n",
    "print(accuracy_knn,end='')\n",
    "print('%')\n",
    "\n",
    "print('\\nExecution time (in seconds) = ', float(\"{0:.3f}\".format(execTimeKNN)))"
   ]
  },
  {
   "cell_type": "markdown",
   "metadata": {},
   "source": [
    "#### Run Softmax based classification"
   ]
  },
  {
   "cell_type": "code",
   "execution_count": 17,
   "metadata": {},
   "outputs": [
    {
     "name": "stdout",
     "output_type": "stream",
     "text": [
      "\n",
      "**** RESULTS FOR Softmax METHOD ****\n",
      "\n",
      "Cross-validation result for Softmax Regression method: [0.98133286547290099]\n",
      "Total cases for Softmax Regression:  2947\n",
      "Correct Prediction for Softmax Regression:  2826\n",
      "Correct prediction rate for Softmax Regression:  0.9589412962334578\n",
      "\n",
      "Classification Report for Softmax Regression method:\n",
      "\n",
      "                     precision    recall  f1-score   support\n",
      "\n",
      "          STANDING       1.00      1.00      1.00       361\n",
      "           WALKING       0.99      1.00      0.99       311\n",
      "  WALKING_UPSTAIRS       1.00      1.00      1.00       304\n",
      "WALKING_DOWNSTAIRS       0.95      0.98      0.96       383\n",
      "           SITTING       0.98      0.95      0.97       427\n",
      "            LAYING       1.00      1.00      1.00       420\n",
      "\n",
      "       avg / total       0.99      0.99      0.99      2206\n",
      "\n",
      "Softmax Regression Confusion Matrix:\n",
      "\n",
      "[[360   1   0   0   0   0]\n",
      " [  1 310   0   0   0   0]\n",
      " [  0   1 303   0   0   0]\n",
      " [  0   1   0 374   8   0]\n",
      " [  0   0   0  20 407   0]\n",
      " [  0   0   1   0   0 419]]\n",
      "\n",
      "Normalized Confusion Matrix (values) for Softmax Regression method:\n",
      "\n",
      " [[ 0.99722992  0.00277008  0.          0.          0.          0.        ]\n",
      " [ 0.00321543  0.99678457  0.          0.          0.          0.        ]\n",
      " [ 0.          0.00328947  0.99671053  0.          0.          0.        ]\n",
      " [ 0.          0.00261097  0.          0.97650131  0.02088773  0.        ]\n",
      " [ 0.          0.          0.          0.04683841  0.95316159  0.        ]\n",
      " [ 0.          0.          0.00238095  0.          0.          0.99761905]]\n"
     ]
    },
    {
     "data": {
      "image/png": "[encoded data removed]",
      "text/plain": [
       "<matplotlib.figure.Figure at 0xe550978>"
      ]
     },
     "metadata": {},
     "output_type": "display_data"
    },
    {
     "name": "stdout",
     "output_type": "stream",
     "text": [
      "\n",
      "Mean Accuracy for Softmax: 98.5%\n",
      "\n",
      "Execution time (in seconds) =  34.889\n"
     ]
    }
   ],
   "source": [
    "print('\\n**** RESULTS FOR Softmax METHOD ****\\n')\n",
    "cmatrix_logr, accuracy_logr, execTimeSoft = runSoftMaxeval()\n",
    "cm_normalized_logr = cmatrix_logr.astype('float') / cmatrix_logr.sum(axis=1)[:,np.newaxis]\n",
    "\n",
    "print('\\nNormalized Confusion Matrix (values) for Softmax Regression method:\\n\\n', cm_normalized_logr)\n",
    "plot(cm_normalized_logr)\n",
    "\n",
    "print('\\nMean Accuracy for Softmax: ', end='')\n",
    "print(accuracy_logr,end='')\n",
    "print('%')\n",
    "\n",
    "print('\\nExecution time (in seconds) = ', float(\"{0:.3f}\".format(execTimeSoft)))"
   ]
  },
  {
   "cell_type": "markdown",
   "metadata": {},
   "source": [
    "#### Run SVM based classification"
   ]
  },
  {
   "cell_type": "code",
   "execution_count": 18,
   "metadata": {},
   "outputs": [
    {
     "name": "stdout",
     "output_type": "stream",
     "text": [
      "\n",
      "**** RESULTS FOR SVM METHOD ****\n",
      "\n",
      "Cross-validation result for SVM method: [0.98347257059116411]\n",
      "Total cases for SVM:  2947\n",
      "Correct Prediction for SVM:  2841\n",
      "Correct prediction rate for SVM:  0.9640312181879878\n",
      "\n",
      "Classification Report for SVM method:\n",
      "\n",
      "                     precision    recall  f1-score   support\n",
      "\n",
      "          STANDING       0.96      0.99      0.97       496\n",
      "           WALKING       0.98      0.96      0.97       471\n",
      "  WALKING_UPSTAIRS       0.99      0.98      0.98       420\n",
      "WALKING_DOWNSTAIRS       0.96      0.89      0.92       491\n",
      "           SITTING       0.91      0.97      0.94       532\n",
      "            LAYING       1.00      1.00      1.00       537\n",
      "\n",
      "       avg / total       0.96      0.96      0.96      2947\n",
      "\n",
      "SVM Confusion Matrix:\n",
      "\n",
      "[[492   1   3   0   0   0]\n",
      " [ 18 451   2   0   0   0]\n",
      " [  4   6 410   0   0   0]\n",
      " [  0   2   0 435  54   0]\n",
      " [  0   0   0  16 516   0]\n",
      " [  0   0   0   0   0 537]]\n",
      "\n",
      "Normalized Confusion Matrix (values) for SVM method:\n",
      "\n",
      " [[ 0.99193548  0.00201613  0.00604839  0.          0.          0.        ]\n",
      " [ 0.03821656  0.95753715  0.00424628  0.          0.          0.        ]\n",
      " [ 0.00952381  0.01428571  0.97619048  0.          0.          0.        ]\n",
      " [ 0.          0.00407332  0.          0.88594705  0.10997963  0.        ]\n",
      " [ 0.          0.          0.          0.03007519  0.96992481  0.        ]\n",
      " [ 0.          0.          0.          0.          0.          1.        ]]\n"
     ]
    },
    {
     "data": {
      "image/png": "[encoded data removed]",
      "text/plain": [
       "<matplotlib.figure.Figure at 0x98b5710>"
      ]
     },
     "metadata": {},
     "output_type": "display_data"
    },
    {
     "name": "stdout",
     "output_type": "stream",
     "text": [
      "\n",
      "Mean Accuracy for SVM: 99.46%\n",
      "\n",
      "Execution time (in seconds) =  10.729\n"
     ]
    }
   ],
   "source": [
    "print('\\n**** RESULTS FOR SVM METHOD ****\\n')\n",
    "cmatrix_svm, accuracy_svm, execTimeSVM = runSVMeval()\n",
    "cm_normalized_svm = cmatrix_svm.astype('float') / cmatrix_svm.sum(axis=1)[:,np.newaxis]\n",
    "\n",
    "print('\\nNormalized Confusion Matrix (values) for SVM method:\\n\\n', cm_normalized_svm)\n",
    "plot(cm_normalized_svm)\n",
    "\n",
    "print('\\nMean Accuracy for SVM: ', end='')\n",
    "print(accuracy_svm,end='')\n",
    "print('%')\n",
    "\n",
    "print('\\nExecution time (in seconds) = ', float(\"{0:.3f}\".format(execTimeSVM)))"
   ]
  },
  {
   "cell_type": "markdown",
   "metadata": {},
   "source": [
    "### Results\n",
    "Below is the summary of the results for each of the classification algorithm used.\n",
    "\n",
    "The prediction rate of each algorithm we have -\n",
    "\n",
    "1. KNN = 87.85%\n",
    "2. Softmax regression = 95.89%\n",
    "3. SVM = 96.40%\n",
    "\n",
    "The mean accuracy of each algorithm we have -\n",
    "\n",
    "1. KNN = 96.15%\n",
    "2. Softmax regression = 98.5%\n",
    "3. SVM = 99.46%\n",
    "\n",
    "For execution time of each algorithm we have - \n",
    "\n",
    "1. KNN = 30.998 seconds\n",
    "2. Softmax regression = 36.147 seconds\n",
    "3. SVM = 11.313 seconds\n",
    "\n",
    "From the confusion matrix for each algorithm we can see that KNN had a poorest result of the three methods. KNN method had some confounding between \"Standing\", \"Walking Downstairs\" and \"Walking\". KNN method also had confounding results between \"Sitting\" and \"Laying\". Overall KNN had a prediction rate of 87.85% and mean accuracy of 96.15%. SVM method on the other had confunding results between \"Sitting\" and \"Laying\". Overall SVM method had a prediction rate of 96.40% which is significantly better than KNN's prediction rate 87.58% and had a mean accuracy of 99.46% which is better than that of KNN's and marginally better than that of Softmax regression method. Softmax regression method had  minimal confounding in its classification results even though both its prediction rate and mean accuracy was marginally lower than that of SVM's. Overall Softmax regression had the highest average precision at 99% compared to SVM's 96% and KNN's 88%. Additionally, all three methods had confounding results between \"Walking\", \"Walking Downstairs\", \"Standing\" and marginally with \"Sitting\". This could be due to the fact the smartphone was mounted at the waist for the participants and  for these motions the measurements would not vary much at the waist for walking, standing and walking downstairs. Last but not the least SVM had the best execution time of about 11 seconds whereas both Softmax and KNN execution took about 3 times longer. So overall even though SVM had lower precision than Softmax due its faster execution time would be a good choice for multi-classification of data."
   ]
  },
  {
   "cell_type": "markdown",
   "metadata": {},
   "source": [
    "## References\n",
    "1. UCI - http://archive.ics.uci.edu/ml/datasets/Human+Activity+Recognition+Using+Smartphones#\n",
    "2. SKLearn - http://scikit-learn.org/"
   ]
  },
  {
   "cell_type": "code",
   "execution_count": null,
   "metadata": {
    "collapsed": true
   },
   "outputs": [],
   "source": []
  }
 ],
 "metadata": {
  "kernelspec": {
   "display_name": "Python 3",
   "language": "python",
   "name": "python3"
  },
  "language_info": {
   "codemirror_mode": {
    "name": "ipython",
    "version": 3
   },
   "file_extension": ".py",
   "mimetype": "text/x-python",
   "name": "python",
   "nbconvert_exporter": "python",
   "pygments_lexer": "ipython3",
   "version": "3.5.4"
  }
 },
 "nbformat": 4,
 "nbformat_minor": 2
}
